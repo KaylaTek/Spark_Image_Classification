{
 "cells": [
  {
   "cell_type": "code",
   "execution_count": null,
   "metadata": {},
   "outputs": [],
   "source": [
    "import pyspark\n",
    "from pyspark.sql.functions import udf, col\n",
    "from pyspark.sql.types import IntegerType, StringType, DoubleType\n",
    "from pyspark.ml import Transformer, Estimator, Pipeline\n",
    "from pyspark.ml.classification import LogisticRegression\n",
    "from mmlspark import CNTKModel, ModelDownloader\n",
    "\n",
    "from mmlspark import *\n",
    "\n",
    "import numpy as np, pandas as pd, os, sys, time\n",
    "from os.path import join, abspath, exists"
   ]
  },
  {
   "cell_type": "code",
   "execution_count": null,
   "metadata": {},
   "outputs": [],
   "source": [
    "model = ModelDownloader(spark, \"models\").downloadByName(\"ResNet50\")"
   ]
  },
  {
   "cell_type": "code",
   "execution_count": null,
   "metadata": {},
   "outputs": [],
   "source": [
    "image_path = 'personalities/*/*.jpg'\n",
    "\n",
    "def getLabel(path):\n",
    "    if 'jobs' in path: label = 1.0\n",
    "    elif 'zuckerberg' in path: label = 2.0\n",
    "    return label\n",
    "\n",
    "#Read in images\n",
    "imageDF = spark.readImages(image_path)\n",
    "getLabelUDF = udf(lambda row: getLabel(row[0]), DoubleType())\n",
    "imageDF = imageDF.withColumn(\"labels\", getLabelUDF(col('image')))\n",
    "\n",
    "imageDF.printSchema()"
   ]
  },
  {
   "cell_type": "code",
   "execution_count": null,
   "metadata": {},
   "outputs": [],
   "source": [
    "# Make some featurizers\n",
    "it = (ImageTransformer()\n",
    "    .setOutputCol(\"scaled\")\n",
    "    .resize(height = 256, width = 256))\n",
    "\n",
    "ur = (UnrollImage()\n",
    "    .setInputCol(\"scaled\")\n",
    "    .setOutputCol(\"features\"))\n",
    "    \n",
    "dc1 = DropColumns().setCols([\"scaled\", \"image\"])\n",
    "\n",
    "lr1 = LogisticRegression().setFeaturesCol(\"features\").setLabelCol(\"labels\")\n",
    "\n",
    "dc2 = DropColumns().setCols([\"features\"])\n",
    "\n",
    "basicModel = Pipeline(stages=[it, ur, dc1, lr1, dc2])"
   ]
  },
  {
   "cell_type": "code",
   "execution_count": null,
   "metadata": {},
   "outputs": [],
   "source": [
    "resnet = (ImageFeaturizer()\n",
    "    .setInputCol(\"image\")\n",
    "    .setOutputCol(\"features\")\n",
    "    .setModelLocation(model.uri)\n",
    "    .setLayerNames(model.layerNames)\n",
    "    .setCutOutputLayers(1))\n",
    "    \n",
    "dc3 = DropColumns().setCols([\"image\"])\n",
    "    \n",
    "lr2 = LogisticRegression().setFeaturesCol(\"features\").setLabelCol(\"labels\")\n",
    "\n",
    "dc4 = DropColumns().setCols([\"features\"])\n",
    "\n",
    "deepModel = Pipeline(stages=[resnet, dc3, lr2, dc4]) "
   ]
  },
  {
   "cell_type": "code",
   "execution_count": null,
   "metadata": {},
   "outputs": [],
   "source": [
    "def timedExperiment(model, train, test):\n",
    "    start = time.time()\n",
    "    result =  model.fit(train).transform(test).toPandas()\n",
    "    print(\"Experiment took {}s\".format(time.time() - start))\n",
    "    return result"
   ]
  },
  {
   "cell_type": "code",
   "execution_count": null,
   "metadata": {},
   "outputs": [],
   "source": [
    "train, test = imageDF.randomSplit([.8,.2])\n",
    "train.count(), test.count()"
   ]
  },
  {
   "cell_type": "code",
   "execution_count": null,
   "metadata": {},
   "outputs": [],
   "source": [
    "basicResults = timedExperiment(basicModel, train, test)"
   ]
  },
  {
   "cell_type": "code",
   "execution_count": null,
   "metadata": {},
   "outputs": [],
   "source": [
    "deepResults = timedExperiment(deepModel, train, test)"
   ]
  }
 ],
 "metadata": {
  "kernelspec": {
   "display_name": "Python 3",
   "language": "python",
   "name": "python3"
  },
  "language_info": {
   "codemirror_mode": {
    "name": "ipython",
    "version": 3
   },
   "file_extension": ".py",
   "mimetype": "text/x-python",
   "name": "python",
   "nbconvert_exporter": "python",
   "pygments_lexer": "ipython3",
   "version": "3.6.4"
  }
 },
 "nbformat": 4,
 "nbformat_minor": 2
}
